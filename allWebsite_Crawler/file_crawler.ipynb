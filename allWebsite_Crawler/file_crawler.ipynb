{
 "cells": [
  {
   "cell_type": "code",
   "execution_count": 29,
   "metadata": {},
   "outputs": [],
   "source": [
    "import pandas as pd\n",
    "from multiprocessing import Pool\n",
    "import get_home_data_soup\n",
    "p1 = Pool(4)\n",
    "df = pd.read_excel(\"Full classified data list DS 4-23-19 250k.xlsx\")\n",
    "\n",
    "\n",
    "df1 = df.iloc[:10, :]\n",
    "\n",
    "# df_list1 = []\n",
    "# # df_list = [df]\n",
    "\n",
    "# for i in range(0, df1.shape[0], 20):\n",
    "#     if (i + 20) < (df1.shape[0]):\n",
    "#         df_list1.append(df1.iloc[i:i + 20])\n",
    "#     else:\n",
    "#         df_list1.append(df1.iloc[i:])\n",
    "        \n",
    "df2 = df.iloc[500:510, :]\n",
    "df3 = df.iloc[1000:1010, :]\n",
    "df4 = df.iloc[5000:5010, :]\n",
    "df5 = df.iloc[10000:10010, :]\n",
    "\n",
    "\n",
    "url_list1 = list(df1['Domain'])\n",
    "url_list2 = list(df2['Domain'])\n",
    "url_list3 = list(df3['Domain'])\n",
    "url_list4 = list(df4['Domain'])\n",
    "url_list5 = list(df5['Domain'])\n",
    "thread_list1 = [tuple([i, x]) for i,x in enumerate(url_list1)]\n",
    "thread_list2 = [tuple([i, x]) for i,x in enumerate(url_list2)]\n",
    "thread_list3 = [tuple([i, x]) for i,x in enumerate(url_list3)]\n",
    "thread_list4 = [tuple([i, x]) for i,x in enumerate(url_list4)]\n",
    "thread_list5 = [tuple([i, x]) for i,x in enumerate(url_list5)]\n",
    "\n",
    "import get_home_data_soup\n",
    "import time\n",
    "\n",
    "\n",
    "        \n",
    "        \n",
    "t0 = time.time()\n",
    "result1 = p1.map(get_home_data_soup.get_content, thread_list1)\n",
    "df1['response'] = list(pd.DataFrame(result1, columns = ['index','response']).sort_values(by = ['index'])['response'])\n",
    "df1.to_csv(\"df1.csv\")\n",
    "t1 = time.time()\n",
    "print(\"time_taken \", t1 - t0)\n",
    "\n",
    "\n",
    "# p2 = Pool(4)\n",
    "# result2 = p2.map(get_home_data_soup.get_content, thread_list2)\n",
    "# df2['response'] = list(pd.DataFrame(result2, columns = ['index','response']).sort_values(by = ['index'])['response'])\n",
    "# df2.to_csv(\"df2.csv\")\n",
    "# t2 = time.time()\n",
    "# print(\"time_taken \", t2 - t1)\n",
    "\n",
    "\n",
    "# t2 = time.time()\n",
    "# p3 = Pool(4)\n",
    "# result3 = p3.map(get_home_data_soup.get_content, thread_list3)\n",
    "# df3['response'] = list(pd.DataFrame(result3, columns = ['index','response']).sort_values(by = ['index'])['response'])\n",
    "# df3.to_csv(\"df3.csv\")\n",
    "# t3 = time.time()\n",
    "# print(\"time_taken \", t3 - t2)\n",
    "\n",
    "\n",
    "# p4 = Pool(4)\n",
    "# result4 = p4.map(get_home_data_soup.get_content, thread_list4)\n",
    "# df4['response'] = list(pd.DataFrame(result4, columns = ['index','response']).sort_values(by = ['index'])['response'])\n",
    "# df4.to_csv(\"df4.csv\")\n",
    "# t4 = time.time()\n",
    "# print(\"time_taken \", t4 - t3)\n",
    "\n",
    "# p5 = Pool(4)\n",
    "# result5 = p5.map(get_home_data_soup.get_content, thread_list5)\n",
    "# df5['response'] = list(pd.DataFrame(result5, columns = ['index','response']).sort_values(by = ['index'])['response'])\n",
    "# df5.to_csv(\"df5.csv\")\n",
    "# t5 = time.time()\n",
    "# print(\"time_taken \", t5 - t4)"
   ]
  },
  {
   "cell_type": "code",
   "execution_count": 36,
   "metadata": {},
   "outputs": [
    {
     "data": {
      "text/plain": [
       "[(0,\n",
       "  'Solution B2C B2B B2B2C Back Platform Features Business Support Fully Customizable Catalog Marketing Globalization Integrations Shipping Carriers Payment Methods Customer Service Marketing Analysis & Tracking Back office Product & Category Management Order Management Warehouse & Logistics Management Integrated Campaign Management Communication with Suppliers Back Services Project Management Product Management Shop Management Photography Development Digital Marketing Back Projects Resources Careers Knowledge Base FAQ Back Contact Solution B2C Learn more B2B Learn more B2B2C Learn more Platform Features Special features of the platform Business support Fully Customizable Catalog Marketing Globalization Integrations 3rd party integration support Shipping Carriers Payment Methods Customer Service Marketing Analysis & Tracking Back office Increase Your Reach Product & Category Management Order Management Warehouse & Logistics Management Integrated Campaign Management Communication With Suppliers Services SERVICES Services provided by 004 Project Management Product Management Shop Management Photography Development Digital Marketing Projects Resources Careers Learn More Knowledge Base Browse Now FAQ Learn More Contact Menu The CompleteE-commerce solution A Cloud based E-commerce Solution to help scale your business & increase sales. Request a demo B2C, B2B & B2B2C Sell directly to customers and/or Businesses with a centralized platform Full E-Commerce Solution and Services Our solution is backed by in-house professionals with more than 14 years of E-Commerce experience in project management, designers, digital marketers, web development, photographers, accountants, warehouse managers and website managers. Secure Cloud Based Highly secured with regular monitoring and maintenance to ensure your website is running all the time fast and secure. How It Works 1 Meeting A free consultation meeting to go through your business goals, demands and current offline/online marketing strategy. 2 Proposal We formulate your requirements into a proposal tailored for your business needs to ensure your online business success. 3 Preparation We Identify your business requirements and how to configure our platform to meet your demands and sales targets. 4 Implementation Our experienced project managers setup the project providing you with constant updates and reports on the setup progress as well as guiding you through the requirements gathering such as uploading products. 5 Launch Before the website launches, our digital marketing experts sit with you to discuss the digital marketing plans and how to increase traffic and convert them into sales. We also make sure training is provide onsite. 6 Making Sales Once the project is live, our dedicated shop managers guide you through the standards of E-commerce and work with you to constantly improve the website with higher sales as target. 004 E-Commerce 2-Minute Overview Find out from this teaser all the great features our system can help you in. Ready to start selling? Get your FREE quote today Email Address * Facebook Twitter Linkedin Google Plus Instagram Youtube Privacy policy GDPR compliant Knowledge Base Contact us © Copyright 2018. 004 International. All rights reserved'),\n",
       " (1,\n",
       "  'Home Contact all things web... specialising in online branding, conversion and lead generation. usability and e-commerce solutions that return sales and leads since 1996 Contact us » seo Search engine optimisation strategies for short and long term online marking campaigns. In depth email and phone support to suit budgets from small start-ups to multinational corporations. social media Social media strategies are a must for all sites to expand the user base and create a buzz. With many search engines using social signals our approach to social media works hand in hand with our seo and web development. web development Web scripts to deliver high efficiency in online marketing and usability. Development is focused on blend between seo, social media and data input improvements. statistical analysis and internet trends... with the array and clients over the last 23 years 0103media is able use trend analysis from millions of visitors per year ... © 0103media 2019 | seo blog | old site | contact | Find us on Google+'),\n",
       " (2,\n",
       "  'HomeServicesAgency Our Team Contact Us Bridging the gap between people and technology Interested to know more? Who is 101 web technology? 101 Web Technology is your strategic digital partner. We understand people and technology with the know how to bring the two together for your organisation. A full service digital agency blending research, design and delivery, we provide evidence based customer experiences to drive your business to the next level. Digital StrategyFuture-proof your business against the ever evolving online world with a well orchestrated digital strategy. learn more MarketingWe make a living out of making sense of the web. Digital marketing is constantly evolving, and many agencies don’t truly understand all of the moving parts. learn more how we work We believe in evidence based design, well-crafted content, and integrated strategies. To achieve our goals, we follow defined methods and processes ensuring the best outcome for your business. DISCOVER Your opportunity for our digital team really get to understand your project. By doing so, they understand the underlying drivers, not just the solutions. 01 Design A collaborative process to design your new service. The design process guides the team to build a user-centred service which is simple, fast and clear. 02 Deliver Implementing “The Way” project methodology, we work with your team the way you work. Delivering digital solutions which work. 03 What is Search Engine Optimisation (SEO) Like most business owners, you are probably distracted and overwhelmed by the possibilities of doing business online. It is true that the Internet is a game changing tool for collecting leads, attracting customers, growing a business, finding staff, providing awesome customer service and building communities. But that is all wasted if you are not found online. Let’s look at what SEO, and how it can help your business. Interested in a SEO Health Check? Contact info Give us a call 0410 509 324 Like more info? 101info@101webtech.com © 2018 101 Web Technology | ABN 77 104 651 210'),\n",
       " (3,\n",
       "  \"Home Detailed Project Questionnaire Contact Us Careers Sitemap 678-404-1578info@1024ws.net Login Username Password Remember Me Forget? Forget your password? Username or E-mail Remember Password? Subscribe Subscribe to newsletter Homepage Services Gwinnett Web Design SEO Custom eCommerce Social Media About 1024 1024 Tech Services 1024 LLC Blog Website design Orange Leap MPX Advertising Marketing SEO Client Portal A Unique Web Design CompanyprovidingUNIQUE WEB SOLUTIONS678-404-1578 .full-width-5cdc7e27f25d7 { min-height:700px; padding:80px 0 50px; background-attachment:scroll; background-position:left top; background-repeat:repeat; margin-bottom:0px; } Responsive Web DesignA responsive web design allows all types of mobile devices to view your website in the most beautiful way possible. This minimizes the chances of visitors missing out on your information. We all remember the days of scrolling forever with our touch screen phones looking for a link or trying to click a navigation button on a website. Allow a responsive web design to take care of that for you. #box-icon-5cdc7e28009f5 p{color:#555555;}#box-icon-5cdc7e28009f5 h4 {color:#252525!important;} Attractive Web DesignYour website is the visual image that portrays passion for your business. Your web design should express your personality and the love you have for what you do. Knowing that first impressions are everything, we make sure your web design is eye catching. #box-icon-5cdc7e2800ff3 p{color:#555555;}#box-icon-5cdc7e2800ff3 h4 {color:#252525!important;} Web DevelopmentAs visitors come to your website, you want them to be floored by the web design. But what about it’s functionality and reliability. We take the development side of websites just as seriously. A visually pleasing website that is poorly developed is like meeting a great looking person for the first time, and not being able to overlook the fact that their personality is missing. We believe you will appreciate both. #box-icon-5cdc7e2801803 p{color:#555555;}#box-icon-5cdc7e2801803 h4 {color:#252525!important;} SEO FriendlyKnock Knock… Who’s there? Will it be you? Can your website be found on Google, Yahoo, or Bing? If your SEO is not present, than neither is your website. Do not waste great efforts of an amazing web design that functions beautifully. Put your website to work! Good SEO will get your site noticed and drive traffic to your door. #box-icon-5cdc7e2801e10 p{color:#555555;}#box-icon-5cdc7e2801e10 h4 {color:#252525!important;} .full-width-5cdc7e27f3a33 { min-height:100px; padding:10px 0 10px; background-attachment:scroll; background-position:left top; background-repeat:repeat; margin-bottom:0px; } .mk-main-wrapper { display: none; } #theme-page { padding-top:0; } 1024 Web Solutions has been building partnerships for since 2011. A partnership with our company opens a direct path to the cutting-edge web technology and dedicated customer service staff that will guide every step of developing your company’s web presence. Navigate our website to see how 1024 Solutions can improve your business and get your message on the web. .full-width-5cdc7e28022ca { min-height:500px; padding:10px 0 10px; background-image:url(http://1024ws.net/wp-content/uploads/2013/10/home-quote-1.jpg); background-attachment:fixed; background-position:center center; background-repeat:no-repeat; margin-bottom:0px; } Image is everything online, let’s get started now. Let’s Build .button-5cdc7e2803e13 { margin-bottom: 15px; margin-top: 0px; min-width: 0px !important; } .full-width-5cdc7e2802cc9 { min-height:100px; padding:10px 0 10px; background-attachment:scroll; background-color:#135475; background-position:left top; background-repeat:repeat; margin-bottom:0px; border:1px solid #135475;border-left:none;border-right:none; } .mk-main-wrapper { display: none; } #theme-page { padding-top:0; } .full-width-5cdc7e2802cc9 .mk-fancy-title.pattern-style span, .full-width-5cdc7e2802cc9 .mk-blog-view-all { background-color: #135475 !important; } Web ServicesWeb service is a very generic term, but it truly encompasses everything we do. We develop and design websites as well as mobile apps for both Andriod and Apple. We also specialize in organic, white hat Search Engine Optimization, Graphic Design, and much more. As we are a Gwinnett County Web Development Firm, we can help you grow in a diverse market here in Georgia, as well as the fastest growing county for small businesses. What we stand forWe are a firm that believes in enhancing the community through honesty and dedication. We guarantee professional prestige and unique characteristics for your online presence that will be unmatched. The 1024 Ethics are the air we breathe, and we strive to promote old-fashioned hard work to earn (and keep) our business; not gimmicks and cheap deals. 1024 are the right people for the job if you are looking to build your capital in the online community. .full-width-5cdc7e28041c9 { min-height:100px; padding:10px 0 10px; background-attachment:scroll; background-position:left top; background-repeat:repeat; margin-bottom:0px; } .mk-main-wrapper { display: none; } #theme-page { padding-top:0; } 1024 Web Solutions Small Business Solutions Drop Us a Line Send message Contact Info 1024 Tech Services LLC dba 1024WS 2095 Hwy 211 NW 2f - 310Braselton, GA 30517 678-404-1578 info@1024ws.net 1024ws.net Copyright All Rights Reserved © 2010 - 2025 Designed by 1024 Web Solutions This work is licensed under a Creative Commons Attribution 4.0 International License. Gwinnett Web Design 1024 Tech Services 1024 LLC Sitemap Careers SEO Disclaimer Contact Us We're not around right now. But you can send us an email and we'll get back to you, asap. Not readable? Change text. Send\"),\n",
       " (4, 'NULL'),\n",
       " (5,\n",
       "  'Skip to content Services Portfolio Blog Contact WordPress web development and website management.Our Work Hire Us! Expandyourbusiness I’m really happy with 10for2…I’ve got more contacts in the last 6 months that I did in 2.5 years with my other website. Jen Price at Learning Foundations Many companies will say they can get it done, but he actually gets it done and on time. Julie at Leaf People Thank you for all of your hard work. You have been easy, insightful, and most importantly available when needed. Thanks again. Jordan at Palmetto Transportation Jason and 10for2 have been instrumental in bringing life to an outdated website and theme. He was able to improve function and features making our site easier to maneuver and mobile friendly. Tamra H. at Ars Inc. With Jason, and 10for2, I got individual attention and a beautiful website. Tammy at TK Photography I recommend him to everyone I meet who is looking to build a website or even just refresh the one they have. Julie D. at Encouraging Words Hypnotherapy Services 10for2 Provides We pride ourselves on our ability to satisfy our customers. At 10for2, we treat each client as if they are our sole customer. You can expect as much involvement with us as is necessary to achieve your goals and establish your web presence. Web Development 10for2 will work with you to develop a plan of attack to help you make your website successful! Complete web solutions from start to finish! Read more Search Optimization SEO is the process of increasing the online visibility of your website. We can show you the right steps to obtaining legitimate SEO that may increase your rankings and traffic. Get your business found! Read more Maintenance We provide custom service plans to meet your needs. Our service levels range from quarterly backups to full webmaster services. Let us design a service plan for you! Read more Some of Our Clients © 2009 - 2019 10for2 | All Rights Reserved. We are currently taking new clients. Need a quote?'),\n",
       " (6,\n",
       "  \"Home Services Blog Contact Hi! We are 10kProject, and we like to talk to people online. There is a conversation taking place about your brand on the web. People are posting about you on Yelp, Instagram, Twitter, Facebook, and more. Are you taking part in it? Custom Posting Strategies. Every month we develop a posting strategy that is tailored to your business and covers the topics that you should be communicating to your online audience. Original Photography. Please don’t just repost the top result from google images. Stand out from your competition with eye catching original photography posted across your various social media platforms. Targeted Engagement. We use the latest web tools to ensure that we are able to locate where conversations about your business are taking place. Incentivized Engagment We work with your business to create unique promotions that encourage your community to engage with you online and help spread the conversation about your brand. <!-- /*thins out the title boldness*/ .section-title h1.title { font-weight: 400; } /*brings up the text that follows the slider*/ .bring-up{ padding-top:0; text-align:center; } /*Shrinks the font of the services so that it doenst take 2 lines*/ .services h2 { font-size: 14px; } #last-section { padding-top: 0px; border-bottom: none; margin-bottom: -30px; } .divider-border { border-top: 1px solid #eee; } --> We specialize in managing a brand’s online appearance by stimulating organic social media engagement through getting to know your business and actively promoting positive online conversation about your brand. Think of us as your voice on the web. Posting Strategy We start by creating a custom posting strategy that focuses on getting the conversation started when you want your customers talking about it. Content Creation Let us develop original photos, write clever status updates, and create whatever else we need to spread the word of your brand online. Community Engagement We respond and engage with your online community. We let them know you are listening to them online and encourage them to talk with you more. Contest Management We come up with fun ways to reward your loyal fans online. Giving them even more incentive to engage and ignite more conversation about your brand. Feeling that tingle of interest? Get in contact with us and we will do a totally free assessment of your business’s web presence. If we think we can help you out, we will get back to you. Recent workThe Sunset: February Instagram Photos Instagram Photos, Recent WorkA few of the photos we took for the Sunset Restaurant in Malibu.detailspreviewThe Sunset Test Photoshoot Product Photography, Recent WorkWe do a test shoot at every location in order to get a feel for where we will shoot during our scheduled product photography photoshoots. detailspreview Real Talk We are a young company and we are looking to bring on more clients. We are hungry, we are talented, and we are passionate. Give us a chance and you will not be disappointed. Need a job? Are you looking for some fun part time work where you can learn a thing or two about the art of online brand management? Do you like competitive video games and late night snacking? Can you quote at least one Will Farrell movie? Then check out our Careers page and see if we have any open positions. Or just get in touch with us and start chatting. :) Recent Blog Posts Some frequently asked questions. February 20, 2014 The History of 10k. February 14, 2014 Social Media Marketing and ROI February 14, 2014 Recent Tweets Could not authenticate you. Featured Instagram: Cronies chat with us twitter reddit Copyright © 2014 10kProject. All rights reserved. Or if you repost anything, just tweet me. :) <!-- #logo { margin-top: 15px; } blockquote { width: 35%; font-weight: bold; } .post-title{ text-align:right; } /*Readable Paragraph Font*/ .readable-print { font-family: 'Oswald', sans-serif; font-weight: 300; line-height: 1.7; font-size: 16px; } /*Red Highlighter*/ .red-highlite { background-color: #DC4F49; color: white; }-->\"),\n",
       " (7,\n",
       "  'Responsive Website Design + SEO Digital Marketing - 10mb.com × Home Design Web Design DIFM Web Design Portfolio DIY Web Design Maintenance Why Choose Us Design Categories Business Shop Restaurants Photographers Associations Weddings Marketing Marketing Packages SEO Marketing Info A-Z list of SEO Terms Video Library Hosting Standard Hosting Windows Hosting eMail Email Hosting eCommerce Online Store Domains Domain Registration Contact Contact About Us Business Tools Data Center Client Questionaire Affiliates Affiliates Affiliate Login Partners Admin Only WHMCS RFQ Prospect Worksheet Change Request Administration BlogLogin × Home Design Web Design DIFM Web Design Portfolio DIY Web Design Maintenance Why Choose Us Design Categories Business Shop Restaurants Photographers Associations Weddings Marketing Marketing Packages SEO Marketing Info A-Z list of SEO Terms Video Library Hosting Standard Hosting Windows Hosting eMail Email Hosting eCommerce Online Store Domains Domain Registration Contact Contact About Us Business Tools Data Center Client Questionaire Affiliates Affiliates Affiliate Login Partners Admin Only WHMCS RFQ Prospect Worksheet Change Request Administration BlogLogin × Home Design Web Design DIFM Web Design Portfolio DIY Web Design Maintenance Why Choose Us Design Categories Business Shop Restaurants Photographers Associations Weddings Marketing Marketing Packages SEO Marketing Info A-Z list of SEO Terms Video Library Hosting Standard Hosting Windows Hosting eMail Email Hosting eCommerce Online Store Domains Domain Registration Contact Contact About Us Business Tools Data Center Client Questionaire Affiliates Affiliates Affiliate Login Partners Admin Only WHMCS RFQ Prospect Worksheet Change Request Administration BlogLogin #imHeader_pluginAppObj_15 .addthis_floating_style { position: static; } #imHeader_pluginAppObj_15 .addthis_button_facebook_like, #imHeader_pluginAppObj_15 .addthis_button_tweet, #imHeader_pluginAppObj_15 .addthis_button_pinterest_pinit, #imHeader_pluginAppObj_15 .addthis_counter { font-size: 0; } × Home Design Web Design DIFM Web Design Portfolio DIY Web Design Maintenance Why Choose Us Design Categories Business Shop Restaurants Photographers Associations Weddings Marketing Marketing Packages SEO Marketing Info A-Z list of SEO Terms Video Library Hosting Standard Hosting Windows Hosting eMail Email Hosting eCommerce Online Store Domains Domain Registration Contact Contact About Us Business Tools Data Center Client Questionaire Affiliates Affiliates Affiliate Login Partners Admin Only WHMCS RFQ Prospect Worksheet Change Request Administration BlogLogin Go to content 10mb.comWebsite Design & HostingA difference for your business Low Cost RESPONSIVE Web DesignDevice Optimization (Mobile/Desktop/Tablet)SEO + DIGITAL MarketingOnsite and Offsite Search Engine OptimizationClassified Web SitesCar Dealers, Real Estate, Models, Job Boards, Marketplaces, Business DirectorieseCommerce Web StoresProduct and eDigital Download Store Designs - Paypal ReadyLinux and Windows Web HostingWordpress - ASP - Frontpage - Coldfusion - php - SQL - AdministrationSmall Business EmailBusiness Class WebmailDomain RegistrationLow Cost Domains starting at $15/yr. How do you want to launch your Internet Presence? Responsive Web Design Get Online with a stunning RESPONSIVE website.Let us design a custom website or use our website builder to launch your own website Read More about Web Design Web Site Hosting If you have an existing website, but you need good solid web hosting, we can help. We have a full set of hosting cpanel tools. Linux and Windows HOSTING. Read More about Web Site Hosting eCommerce Stores Turn your web site into an eCommerce Store ora Classifieds SiteSell Products or eDigital DownloadsAccept credit cards via Paypal, Stripe and Bitcoin! Read More about eCommerce eMail Hosting If you need good solid eMail hosting, we can help. We have a full set of business eMail (webmail) tools. Read More about eMail Hosting SEO Marketing If you have an existing website, but you need SEO Marketing assistance, we can help. We have affordable SEO packages for small businesses. Read More about SEO Marketing Domain Registration If you need a NEW domain, we can help. We have a full set of Domain Registration tools. Read More about Domain Registration Ready to get started on your Business Online Marketing? Thewebhostingdir.com How PayPal Works See our Video LibraryandSee some youtube videos on SEO marketing below... ©2019 Global Soft Technologies Global Soft TechnologiesKelowna, BC, Canada FbInTwPt 1-778-215-1504 1-778-215-1504 Back to content To use this website you must enable JavaScript.'),\n",
       " (8,\n",
       "  'Menu Get started today What We Do How We Do It Our Work Contact Us We build websites, Mobile apps, and we Get Design, too. We speak many languages - Drupal, Wordpress, Expression Engine, PHP, Sitefinity, ASP.NET, Javascript, CSS, Objective C and more. See what other tricks we have up our sleeve. Explore Front-end -development (HTML, CSS, Javascript) Back-end-development (Wordpress, PHP) Responsive VISIT SITE Front-end -development (HTML, CSS, Javascript) Responsive VISIT SITE Web Development Whether it is designing a brand new website, revamping an existing one, or managing a portion of a website, we have all the technical skills and experience to do it on-time and within your budget. Our team of talented developers uses the latest technologies to provide you with a great service and to make sure your site is built to last. Our development services include: Basic web development (HTML, CSS, JavaScript) Application development (PHP, ASP.NET) Open source and Out of the box content management systems (Wordpress, Drupal, ExpressionEngine, Joomla, Sitefinity, Magento) Custom content management solutions Database integration (MS SQL, MySQL) eCommerce solutions Ask us about our web development services Social Media and Email Marketing Social media and email marketing are great ways to communicate with online community and your customers. Emails and social media are ever growing and have become an integral part of our everyday lives. We have a dedicated team of developers that will help you have your online voices heard loud and clear. Our online marketing services include: Styling of social media accounts (Twitter, Facebook, YouTube, LinkedIn) Development of Facebook mini-sites or pages Facebook forms development eBlast designs HTML email template development (ConstantContact, MailChimp, AWeber) Custom HTML email development Responsive HTML email development Cross platform HTML email testing Ask us about our social media and email marketing services Maintenance Design and development of your website is half the work. It is important to keep information on your website up to date and to make sure that the system your website is running on is current. We are here to help you ensure your website is running smoothly and your content is fresh and bug free. Our web maintenance services include: Content changes Updating images and graphics Making web site improvements Adding new functionality Updating event calendars, news, blogs Troubleshooting Applying patches and upgrades Other services that can be tailored to your specific needs Ask us about our maintenances services and packages Step 1 You Share Your Idea With Us Your idea is yours and will always stay that way. Step 2 We provide the solution and cost estimate And it is free of charge to you. Step 3 We build Small teams, iterative process, working closely with the client. Step 4 Project Launch Hurray! We’ve tested, reviewed, adjusted. Now it’s time to put it to work. Step 5 Maintain We continue to work with you to make sure things run smoothly. We have the experience We have been building websites and online solutions for more than a decade. Our combined work experience would make us very old but modern at the same time - we always have time to experiment with the latest and greatest, so we can provide you with the best solutions when you need it. We use the right tools for the job We always work with you and your requirements to find the best solutions to your needs. Rest assured, solution provided by us are supported by the right technology. We make project tracking easy At the start of the project, we set up communication channels in place that will let you check on the status of the project, comment on the progress, or get an update, so you always know what is happening at the moment. We build long-term relationships We are small and agile. We adjust to situations dictated by your business requirements quickly and efficiently. We pay attention to our clients, and our current clients appreciate it. You will always get direct access to the people working on your projects. Get in Touch with Us To Start Your Next Project 10oz have time and again provided a superlative level of service, on multiple endeavors ranging from consumer websites to database software concepts. The expediency and level of detail is astonishing; for example, 10oz developed a fully-functioning website within a week (over a holiday break at that) with absolutely no issue or delay. It is a tremendous luxury to be affiliated with a technology partners for whom no challenge is too great and no deadline is impossible. I consider 10oz an integral part of every digital project we execute. ~ Kel Smith, Principal of Anikto LLC and Founder of Aisle Won ~ 10oz has been a reliable resource for me for over seven years. They have worked closely with me to build complex Drupal and Expression Engine based websites as well as to develop cross platform mobile applications. The quality of their thought leadership over the years has been invaluable. ~ Ezra Cohen, Principal, lucidCircus ~ 10oz is an exceptional partner in bringing your projects to life. They bring energy and excitement to the project that can be felt within the teams and in turn your results. Beyond the expected cutting edge talent and knowledge base, 10oz brings determination and powerful collaborative minds. No matter what the project scope, 10oz does what it takes to deliver a result that clients gush over and teams showcase. ~ Justin Gravante, Sr. Art Director, UX ~ A Few Brands we Did Work For: Let Us Know How We Can Help You First Name * Last Name * Email * Company Message * Send to our team Thank you for contacting us! Your message was sent to us successfully. We will review the information you provided and reach out to set up a time to discuss your project and to answer any questions that you might have. You should expect to hear from us within 24 hours of the original submission. The information you submitted will remain confidential and will not be shared with any 3d parties. Back to form Philadelphia 48 Hidden Cove Drive Southampton, PA 18966 United States info{at}10oz.com 267.992.1585 © 2014 - 2019 10oz.com, Inc. All rights reserved. What We Do How We Do It Our Work Contact Us'),\n",
       " (9,\n",
       "  'Toggle navigation Home About Services Content Design Social Media Websites Strategy Marketing Automation Portfolio Contact Us Articles Home A full-service digital & traditional marketing agency We get you from where you are, to where you want to be. Digital is our tool. Content marketing our skill. We shape perception, measurably improving the way customers view your brand and experience your business.Are you looking for marketing services? Contact us today! Grow revenue, increase market share and build your brand value Your website needs to be a tool for business development. It must build your authority in the marketplace, drive conversion and sales and enhance your customers’ UX. In a nutshell, the websites we create are beautiful and functional, and will drive business to your door. What is your website doing for you? Be easy to find online Creating content that ranks well on Google has become a highly specialised skill. We write digital content perfect for all platforms. Our content will give you the professional edge in the market, as well as earn you high SEO scores to rank on Google. Google also supports SEO page indexing. Would you like to rank well on Google? Attract leads, convert them into customers, and build brand loyalty The digital environment is a powerful platform to engage with, inform, educate and delight your customers. Whether it’s on social media, your website, or even traditional marketing channels, we provide your market with relevant, highly creative content and a great experience of your brand. Are you engaging effectively with your customers? Imagine what we could do for you! See our portfolio here. Have a strong and professional online presence Our expert graphic design will make your visual brand stand out, especially online. In the maelstrom of design and information that’s out there, you need to make a memorable impact. One that is completely aligned with your CI. Our talented brand designers have decades of experience in creating unique visual appeal for every brand. Does your visual branding stand out online? Reach your target market with creative and memorable brand awareness Intelligently accurate and creative social media campaigns will grow your brand and attract traffic to your website through customer engagement. Reach your target market and retain interest with fresh and relevant content which produces results. Are you using social media to add effective and measurable value to your business? Make informed marketing decisions and a rewarding impact Website and social media statistics are an integral part of a cost-effective marketing strategy, giving your business the opportunity to measure results and gather business intelligence. Our detailed, accurate analytics of your online performance and engagement gives you all the information you need to build an effective strategy. Are you able to measure your online impact? Imagine what we could do for you! See our services here. Integrate your existing traditional marketing channels with digital. It’s a powerful mix. There’s no need to discard your traditional marketing channels. They’ve worked for you in the past and there’s no reason why they shouldn’t continue to do so. Pairing them with digital makes your brand awareness that much more powerful. Contact us for a Marketing Assessment today Meet the Team Colleen Lewis MANAGING DIRECTOR My daily mission is to help make a difference for businesses that want to grow Zane Harpur OPERATIONS DIRECTOR The most exciting thing about working with technology is that the learning curve never ends Michelle Haskins CREATIVE DIRECTOR I love to transform chaos into design, to inject fresh energy and creative branding power into new and growing businesses. Laurel Pretorius CONCEPT DIRECTOR Without the big ideas we have nothing. Be brave and think big! Lara-Anne Searle DIGITAL ART DIRECTOR I believe that good designers should be great problem solvers. Imagine what we could do for you! Contact us today! The Digital Alliance Load More...Follow on Instagram Email: info@thedigitalalliance.co.za Phone: 083 403 1101 Copyright © 2019 The Digital Alliance. All Rights Reserved. Proudly powered by Visual Composer and WordPress Name* First Last Contact Number*Email Address* May we add you to our mailing list?*YesNo This iframe contains the logic required to handle AJAX powered Gravity Forms. × Back to Top #wpfront-scroll-top-container div.text-holder { color: #ffffff; background-color: #e01e58; width: auto; height: auto; } #wpfront-scroll-top-container div.text-holder:hover { background-color: #e01e58; }')]"
      ]
     },
     "execution_count": 36,
     "metadata": {},
     "output_type": "execute_result"
    }
   ],
   "source": [
    "result1"
   ]
  },
  {
   "cell_type": "code",
   "execution_count": 38,
   "metadata": {},
   "outputs": [
    {
     "data": {
      "text/plain": [
       "datetime.datetime(2019, 5, 16, 17, 39, 50, 816706)"
      ]
     },
     "execution_count": 38,
     "metadata": {},
     "output_type": "execute_result"
    }
   ],
   "source": [
    "import datetime\n",
    "datetime.datetime.now()"
   ]
  },
  {
   "cell_type": "code",
   "execution_count": 39,
   "metadata": {},
   "outputs": [
    {
     "data": {
      "text/plain": [
       "datetime.datetime(2019, 5, 16, 17, 40, 2, 74789)"
      ]
     },
     "execution_count": 39,
     "metadata": {},
     "output_type": "execute_result"
    }
   ],
   "source": [
    "datetime.datetime.now()"
   ]
  },
  {
   "cell_type": "code",
   "execution_count": null,
   "metadata": {},
   "outputs": [],
   "source": []
  }
 ],
 "metadata": {
  "kernelspec": {
   "display_name": "Python 3",
   "language": "python",
   "name": "python3"
  },
  "language_info": {
   "codemirror_mode": {
    "name": "ipython",
    "version": 3
   },
   "file_extension": ".py",
   "mimetype": "text/x-python",
   "name": "python",
   "nbconvert_exporter": "python",
   "pygments_lexer": "ipython3",
   "version": "3.6.8"
  }
 },
 "nbformat": 4,
 "nbformat_minor": 2
}
